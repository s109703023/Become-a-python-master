{
  "nbformat": 4,
  "nbformat_minor": 0,
  "metadata": {
    "colab": {
      "name": "林哲宇_第一次作業.ipynb",
      "provenance": [],
      "authorship_tag": "ABX9TyPSKoxUfhxikYVmQqAdd2kP",
      "include_colab_link": true
    },
    "kernelspec": {
      "name": "python3",
      "display_name": "Python 3"
    },
    "language_info": {
      "name": "python"
    }
  },
  "cells": [
    {
      "cell_type": "markdown",
      "metadata": {
        "id": "view-in-github",
        "colab_type": "text"
      },
      "source": [
        "<a href=\"https://colab.research.google.com/github/s109703023/Become-a-python-master/blob/main/%E6%9E%97%E5%93%B2%E5%AE%87_%E7%AC%AC%E4%B8%80%E6%AC%A1%E4%BD%9C%E6%A5%AD.ipynb\" target=\"_parent\"><img src=\"https://colab.research.google.com/assets/colab-badge.svg\" alt=\"Open In Colab\"/></a>"
      ]
    },
    {
      "cell_type": "code",
      "execution_count": null,
      "metadata": {
        "id": "XX9dOFvP8Oot",
        "colab": {
          "base_uri": "https://localhost:8080/"
        },
        "outputId": "c4bc7bea-ca04-4719-bfe3-35b2042f2730"
      },
      "outputs": [
        {
          "output_type": "stream",
          "name": "stdout",
          "text": [
            "台灣年薪中位數為50.1萬元\n",
            "\n",
            "請你輸入你現在打工所賺的月薪，我來幫你算算年薪占台灣幾%\n",
            "\n"
          ]
        }
      ],
      "source": [
        "print(\"台灣年薪中位數為50.1萬元\\n\")\n",
        "print(\"請你輸入你現在打工所賺的月薪，我來幫你算算年薪占台灣幾%\\n\")\n",
        "monthly_income = input(\"請輸入月薪=\")\n",
        "annual_salary = int(monthly_income)*12\n",
        "print(\"你的年薪為\"+str(annual_salary)+\"元\\n\")\n",
        "average = round(float(annual_salary/(501000*2))*100 , 2)\n",
        "print(\"你的年薪在台灣的\"+str(average)+\"%\")\n",
        "if(annual_salary>501000):\n",
        "  print(\"你一個學生也賺太多了吧\")\n",
        "else:\n",
        "  print(\"沒事啦，學生打工本來就賺的不多\")"
      ]
    }
  ]
}