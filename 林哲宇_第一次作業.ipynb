{
  "nbformat": 4,
  "nbformat_minor": 0,
  "metadata": {
    "colab": {
      "name": "林哲宇_第一次作業.ipynb",
      "provenance": [],
      "authorship_tag": "ABX9TyPUufxePRlTX/s1p2Kjcduz",
      "include_colab_link": true
    },
    "kernelspec": {
      "name": "python3",
      "display_name": "Python 3"
    },
    "language_info": {
      "name": "python"
    }
  },
  "cells": [
    {
      "cell_type": "markdown",
      "metadata": {
        "id": "view-in-github",
        "colab_type": "text"
      },
      "source": [
        "<a href=\"https://colab.research.google.com/github/s109703023/Become-a-python-master/blob/main/%E6%9E%97%E5%93%B2%E5%AE%87_%E7%AC%AC%E4%B8%80%E6%AC%A1%E4%BD%9C%E6%A5%AD.ipynb\" target=\"_parent\"><img src=\"https://colab.research.google.com/assets/colab-badge.svg\" alt=\"Open In Colab\"/></a>"
      ]
    },
    {
      "cell_type": "code",
      "execution_count": null,
      "metadata": {
        "id": "XX9dOFvP8Oot"
      },
      "outputs": [],
      "source": [
        ""
      ]
    }
  ]
}